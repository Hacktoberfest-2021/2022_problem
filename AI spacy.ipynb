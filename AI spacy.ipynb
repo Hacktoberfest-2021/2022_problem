{
  "nbformat": 4,
  "nbformat_minor": 0,
  "metadata": {
    "colab": {
      "provenance": [],
      "include_colab_link": true
    },
    "kernelspec": {
      "name": "python3",
      "display_name": "Python 3"
    },
    "language_info": {
      "name": "python"
    }
  },
  "cells": [
    {
      "cell_type": "markdown",
      "metadata": {
        "id": "view-in-github",
        "colab_type": "text"
      },
      "source": [
        "<a href=\"https://colab.research.google.com/github/surajparui/2022_problem/blob/main/AI%20spacy.ipynb\" target=\"_parent\"><img src=\"https://colab.research.google.com/assets/colab-badge.svg\" alt=\"Open In Colab\"/></a>"
      ]
    },
    {
      "cell_type": "code",
      "execution_count": null,
      "metadata": {
        "id": "wxVocmVgAfNE"
      },
      "outputs": [],
      "source": [
        "import spacy\n",
        "nlp = spacy.load('en_core_web_sm')\n",
        "import pandas as pd\n",
        "from sklearn.feature_extraction.text import CountVectorizer, TfidfVectorizer\n",
        "from sklearn.base import TransformerMixin\n",
        "from sklearn.pipeline import Pipeline"
      ]
    },
    {
      "cell_type": "markdown",
      "source": [
        "WORD VECTOR REPRESENTATION"
      ],
      "metadata": {
        "id": "An6V7EbzoYFj"
      }
    },
    {
      "cell_type": "code",
      "source": [
        "# Word vector representation for love\n",
        "love = nlp(u'love')\n",
        "print(love.vector.shape)\n",
        "print(love.vector)"
      ],
      "metadata": {
        "id": "R0LKgplhIdem",
        "colab": {
          "base_uri": "https://localhost:8080/"
        },
        "outputId": "dba8dc73-52c8-45f2-98bc-e38af07744e2"
      },
      "execution_count": null,
      "outputs": [
        {
          "output_type": "stream",
          "name": "stdout",
          "text": [
            "(96,)\n",
            "[ 0.96288884  1.2634276   0.6250355  -0.77991855 -0.904034    1.219759\n",
            " -0.04371536 -0.1276063   0.24655849 -1.4692374  -0.63719076 -0.6365906\n",
            "  0.09235445 -0.40780962 -0.71920305 -0.6152446  -0.49530357 -0.14899471\n",
            " -1.1089895  -0.16828349  2.1601627  -0.36894426  0.53562397  2.0515513\n",
            "  1.3365848   0.81874454 -0.22138533  0.6860134   1.4870692  -0.39636394\n",
            " -0.16569182 -0.08968636 -1.3460407  -0.15887657 -0.76484084  1.6649683\n",
            " -0.2838282   0.4913479  -0.2769425   0.4877649  -0.1346015   2.509163\n",
            " -0.5847128   0.5567566  -0.91189206 -1.1060163   0.12433991  1.3289213\n",
            "  0.18935159 -1.0610229  -0.02874377 -0.6999437  -1.3394148   0.24719048\n",
            " -0.7577665  -0.6644245  -2.0409827  -1.5102508   0.10508268 -0.12347171\n",
            " -0.48157108 -0.9322603  -0.74039656  0.01847911 -0.31598616  0.43642935\n",
            " -0.14901352  0.8811443  -0.15638724 -0.88410425  1.1666583  -0.423424\n",
            "  0.13437171 -0.3457961  -0.10581809  0.48710424  1.375402   -0.30086493\n",
            " -0.5932542   1.3211955   0.13724011 -0.55722886  1.2217724  -0.96214575\n",
            " -0.46288303  0.84021163 -0.40291375  0.0647496  -0.94810545  1.0874151\n",
            " -1.0604192  -0.75607944  0.38562506  0.79932636  0.8012426   0.51037365]\n"
          ]
        }
      ]
    },
    {
      "cell_type": "markdown",
      "source": [
        "POS TAGGING"
      ],
      "metadata": {
        "id": "IkPkGusYnsd9"
      }
    },
    {
      "cell_type": "code",
      "source": [
        "docs = nlp(u\"I love it! Learning knew things with it eveyday! Still figuring out how everything works.\")\n",
        "\n",
        "for word in docs:\n",
        "    print(word.text,word.pos_)"
      ],
      "metadata": {
        "colab": {
          "base_uri": "https://localhost:8080/"
        },
        "id": "EmT--S-XhaDc",
        "outputId": "1c39077c-b800-4e8f-b1bc-8a66bf68d7da"
      },
      "execution_count": null,
      "outputs": [
        {
          "output_type": "stream",
          "name": "stdout",
          "text": [
            "I PRON\n",
            "love VERB\n",
            "it PRON\n",
            "! PUNCT\n",
            "Learning PROPN\n",
            "knew VERB\n",
            "things NOUN\n",
            "with ADP\n",
            "it PRON\n",
            "eveyday NOUN\n",
            "! PUNCT\n",
            "Still ADV\n",
            "figuring VERB\n",
            "out ADP\n",
            "how SCONJ\n",
            "everything PRON\n",
            "works VERB\n",
            ". PUNCT\n"
          ]
        }
      ]
    },
    {
      "cell_type": "code",
      "source": [
        "# Loading TSV file\n",
        "df_amazon = pd.read_csv(\"/content/amazon_alexa.tsv\",sep=\"\\t\")\n",
        "\n",
        "print(f'Shape of data: {df_amazon.shape}')\n",
        "# Show top 5 records\n",
        "df_amazon.head()"
      ],
      "metadata": {
        "colab": {
          "base_uri": "https://localhost:8080/",
          "height": 223
        },
        "id": "f8_NQrt3ApRQ",
        "outputId": "c71544c6-2075-4f22-9cf3-ec829620a6ff"
      },
      "execution_count": null,
      "outputs": [
        {
          "output_type": "stream",
          "name": "stdout",
          "text": [
            "Shape of data: (3150, 5)\n"
          ]
        },
        {
          "output_type": "execute_result",
          "data": {
            "text/plain": [
              "   rating       date         variation  \\\n",
              "0       5  31-Jul-18  Charcoal Fabric    \n",
              "1       5  31-Jul-18  Charcoal Fabric    \n",
              "2       4  31-Jul-18    Walnut Finish    \n",
              "3       5  31-Jul-18  Charcoal Fabric    \n",
              "4       5  31-Jul-18  Charcoal Fabric    \n",
              "\n",
              "                                    verified_reviews  feedback  \n",
              "0                                      Love my Echo!         1  \n",
              "1                                          Loved it!         1  \n",
              "2  Sometimes while playing a game, you can answer...         1  \n",
              "3  I have had a lot of fun with this thing. My 4 ...         1  \n",
              "4                                              Music         1  "
            ],
            "text/html": [
              "\n",
              "  <div id=\"df-26b63c1c-c3a5-4af7-8275-719b0f91546e\">\n",
              "    <div class=\"colab-df-container\">\n",
              "      <div>\n",
              "<style scoped>\n",
              "    .dataframe tbody tr th:only-of-type {\n",
              "        vertical-align: middle;\n",
              "    }\n",
              "\n",
              "    .dataframe tbody tr th {\n",
              "        vertical-align: top;\n",
              "    }\n",
              "\n",
              "    .dataframe thead th {\n",
              "        text-align: right;\n",
              "    }\n",
              "</style>\n",
              "<table border=\"1\" class=\"dataframe\">\n",
              "  <thead>\n",
              "    <tr style=\"text-align: right;\">\n",
              "      <th></th>\n",
              "      <th>rating</th>\n",
              "      <th>date</th>\n",
              "      <th>variation</th>\n",
              "      <th>verified_reviews</th>\n",
              "      <th>feedback</th>\n",
              "    </tr>\n",
              "  </thead>\n",
              "  <tbody>\n",
              "    <tr>\n",
              "      <th>0</th>\n",
              "      <td>5</td>\n",
              "      <td>31-Jul-18</td>\n",
              "      <td>Charcoal Fabric</td>\n",
              "      <td>Love my Echo!</td>\n",
              "      <td>1</td>\n",
              "    </tr>\n",
              "    <tr>\n",
              "      <th>1</th>\n",
              "      <td>5</td>\n",
              "      <td>31-Jul-18</td>\n",
              "      <td>Charcoal Fabric</td>\n",
              "      <td>Loved it!</td>\n",
              "      <td>1</td>\n",
              "    </tr>\n",
              "    <tr>\n",
              "      <th>2</th>\n",
              "      <td>4</td>\n",
              "      <td>31-Jul-18</td>\n",
              "      <td>Walnut Finish</td>\n",
              "      <td>Sometimes while playing a game, you can answer...</td>\n",
              "      <td>1</td>\n",
              "    </tr>\n",
              "    <tr>\n",
              "      <th>3</th>\n",
              "      <td>5</td>\n",
              "      <td>31-Jul-18</td>\n",
              "      <td>Charcoal Fabric</td>\n",
              "      <td>I have had a lot of fun with this thing. My 4 ...</td>\n",
              "      <td>1</td>\n",
              "    </tr>\n",
              "    <tr>\n",
              "      <th>4</th>\n",
              "      <td>5</td>\n",
              "      <td>31-Jul-18</td>\n",
              "      <td>Charcoal Fabric</td>\n",
              "      <td>Music</td>\n",
              "      <td>1</td>\n",
              "    </tr>\n",
              "  </tbody>\n",
              "</table>\n",
              "</div>\n",
              "      <button class=\"colab-df-convert\" onclick=\"convertToInteractive('df-26b63c1c-c3a5-4af7-8275-719b0f91546e')\"\n",
              "              title=\"Convert this dataframe to an interactive table.\"\n",
              "              style=\"display:none;\">\n",
              "        \n",
              "  <svg xmlns=\"http://www.w3.org/2000/svg\" height=\"24px\"viewBox=\"0 0 24 24\"\n",
              "       width=\"24px\">\n",
              "    <path d=\"M0 0h24v24H0V0z\" fill=\"none\"/>\n",
              "    <path d=\"M18.56 5.44l.94 2.06.94-2.06 2.06-.94-2.06-.94-.94-2.06-.94 2.06-2.06.94zm-11 1L8.5 8.5l.94-2.06 2.06-.94-2.06-.94L8.5 2.5l-.94 2.06-2.06.94zm10 10l.94 2.06.94-2.06 2.06-.94-2.06-.94-.94-2.06-.94 2.06-2.06.94z\"/><path d=\"M17.41 7.96l-1.37-1.37c-.4-.4-.92-.59-1.43-.59-.52 0-1.04.2-1.43.59L10.3 9.45l-7.72 7.72c-.78.78-.78 2.05 0 2.83L4 21.41c.39.39.9.59 1.41.59.51 0 1.02-.2 1.41-.59l7.78-7.78 2.81-2.81c.8-.78.8-2.07 0-2.86zM5.41 20L4 18.59l7.72-7.72 1.47 1.35L5.41 20z\"/>\n",
              "  </svg>\n",
              "      </button>\n",
              "      \n",
              "  <style>\n",
              "    .colab-df-container {\n",
              "      display:flex;\n",
              "      flex-wrap:wrap;\n",
              "      gap: 12px;\n",
              "    }\n",
              "\n",
              "    .colab-df-convert {\n",
              "      background-color: #E8F0FE;\n",
              "      border: none;\n",
              "      border-radius: 50%;\n",
              "      cursor: pointer;\n",
              "      display: none;\n",
              "      fill: #1967D2;\n",
              "      height: 32px;\n",
              "      padding: 0 0 0 0;\n",
              "      width: 32px;\n",
              "    }\n",
              "\n",
              "    .colab-df-convert:hover {\n",
              "      background-color: #E2EBFA;\n",
              "      box-shadow: 0px 1px 2px rgba(60, 64, 67, 0.3), 0px 1px 3px 1px rgba(60, 64, 67, 0.15);\n",
              "      fill: #174EA6;\n",
              "    }\n",
              "\n",
              "    [theme=dark] .colab-df-convert {\n",
              "      background-color: #3B4455;\n",
              "      fill: #D2E3FC;\n",
              "    }\n",
              "\n",
              "    [theme=dark] .colab-df-convert:hover {\n",
              "      background-color: #434B5C;\n",
              "      box-shadow: 0px 1px 3px 1px rgba(0, 0, 0, 0.15);\n",
              "      filter: drop-shadow(0px 1px 2px rgba(0, 0, 0, 0.3));\n",
              "      fill: #FFFFFF;\n",
              "    }\n",
              "  </style>\n",
              "\n",
              "      <script>\n",
              "        const buttonEl =\n",
              "          document.querySelector('#df-26b63c1c-c3a5-4af7-8275-719b0f91546e button.colab-df-convert');\n",
              "        buttonEl.style.display =\n",
              "          google.colab.kernel.accessAllowed ? 'block' : 'none';\n",
              "\n",
              "        async function convertToInteractive(key) {\n",
              "          const element = document.querySelector('#df-26b63c1c-c3a5-4af7-8275-719b0f91546e');\n",
              "          const dataTable =\n",
              "            await google.colab.kernel.invokeFunction('convertToInteractive',\n",
              "                                                     [key], {});\n",
              "          if (!dataTable) return;\n",
              "\n",
              "          const docLinkHtml = 'Like what you see? Visit the ' +\n",
              "            '<a target=\"_blank\" href=https://colab.research.google.com/notebooks/data_table.ipynb>data table notebook</a>'\n",
              "            + ' to learn more about interactive tables.';\n",
              "          element.innerHTML = '';\n",
              "          dataTable['output_type'] = 'display_data';\n",
              "          await google.colab.output.renderOutput(dataTable, element);\n",
              "          const docLink = document.createElement('div');\n",
              "          docLink.innerHTML = docLinkHtml;\n",
              "          element.appendChild(docLink);\n",
              "        }\n",
              "      </script>\n",
              "    </div>\n",
              "  </div>\n",
              "  "
            ]
          },
          "metadata": {},
          "execution_count": 2
        }
      ]
    },
    {
      "cell_type": "markdown",
      "source": [
        "Data Information"
      ],
      "metadata": {
        "id": "crKR4ixkDgQo"
      }
    },
    {
      "cell_type": "code",
      "source": [
        "df_amazon.info()"
      ],
      "metadata": {
        "colab": {
          "base_uri": "https://localhost:8080/"
        },
        "id": "RS2Pu6MqAxv2",
        "outputId": "2e31b7e2-e8dd-4c14-ffcc-eec19c32bdb3"
      },
      "execution_count": null,
      "outputs": [
        {
          "output_type": "stream",
          "name": "stdout",
          "text": [
            "<class 'pandas.core.frame.DataFrame'>\n",
            "RangeIndex: 3150 entries, 0 to 3149\n",
            "Data columns (total 5 columns):\n",
            " #   Column            Non-Null Count  Dtype \n",
            "---  ------            --------------  ----- \n",
            " 0   rating            3150 non-null   int64 \n",
            " 1   date              3150 non-null   object\n",
            " 2   variation         3150 non-null   object\n",
            " 3   verified_reviews  3150 non-null   object\n",
            " 4   feedback          3150 non-null   int64 \n",
            "dtypes: int64(2), object(3)\n",
            "memory usage: 123.2+ KB\n"
          ]
        }
      ]
    },
    {
      "cell_type": "markdown",
      "source": [
        "Feedback Value Class Distribution"
      ],
      "metadata": {
        "id": "WKszf-ZNDn6_"
      }
    },
    {
      "cell_type": "code",
      "source": [
        "df_amazon.feedback.value_counts()"
      ],
      "metadata": {
        "colab": {
          "base_uri": "https://localhost:8080/"
        },
        "id": "wYuAHag8DkjX",
        "outputId": "5bdae870-9bcb-4a2d-876b-13634e411920"
      },
      "execution_count": null,
      "outputs": [
        {
          "output_type": "execute_result",
          "data": {
            "text/plain": [
              "1    2893\n",
              "0     257\n",
              "Name: feedback, dtype: int64"
            ]
          },
          "metadata": {},
          "execution_count": 4
        }
      ]
    },
    {
      "cell_type": "markdown",
      "source": [
        "Tokenizing the Text"
      ],
      "metadata": {
        "id": "dOJXC0VCDuNo"
      }
    },
    {
      "cell_type": "code",
      "source": [
        "import numpy as np\n",
        "import pandas as pd\n",
        "import nltk\n",
        "from nltk.tokenize import sent_tokenize\n",
        "nltk.download('punkt')\n",
        "nltk.download(\"wordnet\")\n",
        "from nltk.stem import WordNetLemmatizer\n",
        "nltk.download('omw-1.4')\n",
        "from nltk.stem.porter import PorterStemmer"
      ],
      "metadata": {
        "colab": {
          "base_uri": "https://localhost:8080/"
        },
        "id": "cFNTSdQVICuH",
        "outputId": "49a1be2a-b1e6-49af-e331-ca567f7771a8"
      },
      "execution_count": null,
      "outputs": [
        {
          "output_type": "stream",
          "name": "stderr",
          "text": [
            "[nltk_data] Downloading package punkt to /root/nltk_data...\n",
            "[nltk_data]   Unzipping tokenizers/punkt.zip.\n",
            "[nltk_data] Downloading package wordnet to /root/nltk_data...\n",
            "[nltk_data] Downloading package omw-1.4 to /root/nltk_data...\n"
          ]
        }
      ]
    },
    {
      "cell_type": "code",
      "source": [
        "import string\n",
        "from spacy.lang.en import English\n",
        "from spacy.lang.en.stop_words import STOP_WORDS\n",
        "\n",
        "# Create our list of punchuationmarks\n",
        "punctuations = string.punctuation\n",
        "\n",
        "# Create our list of stop words\n",
        "nlp = spacy.load(\"en_core_web_sm\")\n",
        "stop_words = spacy.lang.en.stop_words.STOP_WORDS\n",
        "\n",
        "# Load English tokenizer, tagger, parser, NER and word vector\n",
        "parser = English()\n",
        "\n",
        "# Creating our tokenzer function\n",
        "def spacy_tokenizer(sentence): \n",
        "\n",
        "    tokens = sent_tokenize(sentence)\n",
        "\n",
        "    lemmatizer = WordNetLemmatizer()\n",
        "    lemmatized_tokens = \" \".join([lemmatizer.lemmatize(token) for token in tokens])\n",
        "    lemmatized_tokens\n",
        "\n",
        "    return lemmatized_tokens"
      ],
      "metadata": {
        "id": "DPBZJen0Dq__"
      },
      "execution_count": null,
      "outputs": []
    },
    {
      "cell_type": "markdown",
      "source": [
        "Data Cleaning"
      ],
      "metadata": {
        "id": "w2wOQyA2EJDn"
      }
    },
    {
      "cell_type": "code",
      "source": [
        "# Custom transformer using spaCy\n",
        "class predictors(TransformerMixin):\n",
        "    def transform(self, X, **transform_params):\n",
        "        \"\"\"Override the transform method to clean text\"\"\"\n",
        "        return [clean_text(text) for text in X]\n",
        "    \n",
        "    def fit(self, X, y= None, **fit_params):\n",
        "        return self\n",
        "    \n",
        "    def get_params(self, deep= True):\n",
        "        return {}\n",
        "\n",
        "# Basic function to clean the text\n",
        "def clean_text(text):\n",
        "    \"\"\"Removing spaces and converting the text into lowercase\"\"\"\n",
        "    return text.strip().lower()   "
      ],
      "metadata": {
        "id": "gbaHW24xD--l"
      },
      "execution_count": null,
      "outputs": []
    },
    {
      "cell_type": "markdown",
      "source": [
        "Feature Engineering"
      ],
      "metadata": {
        "id": "sC9tnF7dEOv_"
      }
    },
    {
      "cell_type": "markdown",
      "source": [
        "Vectorization"
      ],
      "metadata": {
        "id": "ZKv3_bDyERzX"
      }
    },
    {
      "cell_type": "code",
      "source": [
        "bow_vector = CountVectorizer(tokenizer = spacy_tokenizer, ngram_range = (1,1))"
      ],
      "metadata": {
        "id": "XSwg7aSvELw-"
      },
      "execution_count": null,
      "outputs": []
    },
    {
      "cell_type": "markdown",
      "source": [
        "TF-IDF"
      ],
      "metadata": {
        "id": "gA8ipSz7Ebfv"
      }
    },
    {
      "cell_type": "code",
      "source": [
        "tfidf_vector = TfidfVectorizer(tokenizer = spacy_tokenizer)"
      ],
      "metadata": {
        "id": "jLUA4KY7EYNH"
      },
      "execution_count": null,
      "outputs": []
    },
    {
      "cell_type": "markdown",
      "source": [
        "Create Train and Test Datasets"
      ],
      "metadata": {
        "id": "gV3glxeGEhN2"
      }
    },
    {
      "cell_type": "code",
      "source": [
        "from sklearn.model_selection import train_test_split\n",
        "\n",
        "X = df_amazon['verified_reviews'] # The features we want to analyse\n",
        "ylabels = df_amazon['feedback'] # The labels, in this case feedback\n",
        "\n",
        "X_train, X_test, y_train, y_test = train_test_split(X, ylabels, test_size = 0.3, random_state = 1)\n",
        "print(f'X_train dimension: {X_train.shape}')\n",
        "print(f'y_train dimension: {y_train.shape}')\n",
        "print(f'X_test dimension: {X_test.shape}')\n",
        "print(f'y_train dimension: {y_test.shape}')"
      ],
      "metadata": {
        "colab": {
          "base_uri": "https://localhost:8080/"
        },
        "id": "bTy8pX6qEeA-",
        "outputId": "3cadc79b-45f6-4834-8024-ef75a24271bf"
      },
      "execution_count": null,
      "outputs": [
        {
          "output_type": "stream",
          "name": "stdout",
          "text": [
            "X_train dimension: (2205,)\n",
            "y_train dimension: (2205,)\n",
            "X_test dimension: (945,)\n",
            "y_train dimension: (945,)\n"
          ]
        }
      ]
    },
    {
      "cell_type": "markdown",
      "source": [
        "Creating a Pipeline and Generating the Model"
      ],
      "metadata": {
        "id": "fAgMCrfREmpv"
      }
    },
    {
      "cell_type": "code",
      "source": [
        "# Logistic regression classifier\n",
        "from sklearn.linear_model import LogisticRegression\n",
        "\n",
        "classifier = LogisticRegression(max_iter = 1000)\n",
        "\n",
        "# Create pipeline using Bag of Words\n",
        "pipe = Pipeline ([(\"cleaner\", predictors()),\n",
        "                 (\"vectorizer\", bow_vector),\n",
        "                 (\"classifier\", classifier)])\n",
        "\n",
        "# Model generation\n",
        "pipe.fit(X_train, y_train)"
      ],
      "metadata": {
        "colab": {
          "base_uri": "https://localhost:8080/"
        },
        "id": "vPOup35eEpde",
        "outputId": "1668a731-797c-41e2-a6a8-f5836009a6c2"
      },
      "execution_count": null,
      "outputs": [
        {
          "output_type": "execute_result",
          "data": {
            "text/plain": [
              "Pipeline(steps=[('cleaner', <__main__.predictors object at 0x7f154d0bb4d0>),\n",
              "                ('vectorizer',\n",
              "                 CountVectorizer(tokenizer=<function spacy_tokenizer at 0x7f154e5fba70>)),\n",
              "                ('classifier', LogisticRegression(max_iter=1000))])"
            ]
          },
          "metadata": {},
          "execution_count": 46
        }
      ]
    },
    {
      "cell_type": "code",
      "source": [
        "X_train \n",
        "y_train"
      ],
      "metadata": {
        "colab": {
          "base_uri": "https://localhost:8080/"
        },
        "id": "hFD8b2zpFqa-",
        "outputId": "144808ae-12c1-4fd5-8a6e-46d1261b8eb7"
      },
      "execution_count": null,
      "outputs": [
        {
          "output_type": "execute_result",
          "data": {
            "text/plain": [
              "1433    1\n",
              "2833    1\n",
              "1807    1\n",
              "1447    0\n",
              "1328    1\n",
              "       ..\n",
              "2763    1\n",
              "905     1\n",
              "1096    1\n",
              "235     1\n",
              "1061    1\n",
              "Name: feedback, Length: 2205, dtype: int64"
            ]
          },
          "metadata": {},
          "execution_count": 47
        }
      ]
    },
    {
      "cell_type": "code",
      "source": [
        "from sklearn import metrics\n",
        "\n",
        "# Predicting with test dataset\n",
        "predicted = pipe.predict(X_test)\n",
        "\n",
        "# Model accuracy score\n",
        "print(f'Logistic Regression Accuracy: {metrics.accuracy_score(y_test, predicted)}')\n",
        "print(f'Logistic Regression Precision: {metrics.precision_score(y_test, predicted)}')\n",
        "print(f'Logistic Regression Recall: {metrics.recall_score(y_test, predicted)}')"
      ],
      "metadata": {
        "colab": {
          "base_uri": "https://localhost:8080/"
        },
        "id": "0Vn742jJGCNu",
        "outputId": "470c158f-ae12-470d-a046-e593fad4ebe3"
      },
      "execution_count": null,
      "outputs": [
        {
          "output_type": "stream",
          "name": "stdout",
          "text": [
            "Logistic Regression Accuracy: 0.9195767195767196\n",
            "Logistic Regression Precision: 0.9298056155507559\n",
            "Logistic Regression Recall: 0.9873853211009175\n"
          ]
        }
      ]
    }
  ]
}